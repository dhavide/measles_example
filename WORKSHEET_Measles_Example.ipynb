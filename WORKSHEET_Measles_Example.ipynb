{
 "cells": [
  {
   "cell_type": "markdown",
   "metadata": {},
   "source": [
    "This notebook reproduces a [visualization by the Wall Street Journal](http://graphics.wsj.com/infectious-diseases-and-vaccines/#b02g20t20w15) about the incidence of measles over time, which the brilliant [Brian Granger](https://github.com/ellisonbg) adapted into a [computational example for the Altair library](http://nbviewer.jupyter.org/github/ellisonbg/altair/blob/master/altair/notebooks/12-Measles.ipynb).\n",
    "\n",
    "[Original source](http://holoviews.org/gallery/demos/bokeh/measles_example.html) (from [`holoviews.org`](http://holoviews.org))"
   ]
  },
  {
   "cell_type": "markdown",
   "metadata": {},
   "source": [
    "## 1. Import required packages/libraries\n",
    "\n",
    "A few Python *packages* need to be imported to execute this notebook:\n",
    "+ [Numpy](https://numpy.org/) (*Numerical Python* for processing numerical arrays of data)\n",
    "+ [Pandas](https://pandas.pydata.org/) (for data analysis of tables of data)\n",
    "+ [HoloViews](http://holoviews.org/) (for creating data visualizations)"
   ]
  },
  {
   "cell_type": "code",
   "execution_count": null,
   "metadata": {},
   "outputs": [],
   "source": [
    "# Required import statements"
   ]
  },
  {
   "cell_type": "code",
   "execution_count": null,
   "metadata": {},
   "outputs": [],
   "source": [
    "# Print version information\n",
    "\n",
    "# Display Holoviews & Bokeh logos below"
   ]
  },
  {
   "cell_type": "markdown",
   "metadata": {},
   "source": [
    "+ Using aliases (e.g., `np` for `numpy`, `pd` for `pandas`, `hv` for `holoviews` reduces typing."
   ]
  },
  {
   "cell_type": "markdown",
   "metadata": {},
   "source": [
    "## 2. Declaring data\n",
    "\n",
    "+ Use `read_csv` function to read data from the *CSV* (*Comma-Separated Values*) file into a *DataFrame*.\n",
    "+ Bind the result to the identifier `data`."
   ]
  },
  {
   "cell_type": "code",
   "execution_count": null,
   "metadata": {},
   "outputs": [],
   "source": [
    "# Load data from CSV file\n",
    "data = ..."
   ]
  },
  {
   "cell_type": "markdown",
   "metadata": {},
   "source": [
    "+ Create a new table `yearly_data` from the original DataFrame `data`.\n",
    "   + *Drop* the `WEEK` column.\n",
    "   + *Group* the tabular data by `YEAR` & add up the totals.\n",
    "   + *Reset* the index (so `YEAR` is a regular column).\n",
    "+ \"*Method chaining*\" is common in Python data analysis."
   ]
  },
  {
   "cell_type": "code",
   "execution_count": null,
   "metadata": {},
   "outputs": [],
   "source": [
    "# Add up data by year over all states\n",
    "yearly_data = ..."
   ]
  },
  {
   "cell_type": "markdown",
   "metadata": {},
   "source": [
    "+ *Melt* the wide `yearly_data` table to yield a tall \"tidy\" table.\n",
    "   + Use the `YEAR` column as `id_vars`.\n",
    "   + Use the string `STATE` as `var_name`.\n",
    "   + Use the `Incidence` column values as `value_name`.\n",
    "+ Bind the result to the identifier `measles`."
   ]
  },
  {
   "cell_type": "code",
   "execution_count": null,
   "metadata": {},
   "outputs": [],
   "source": [
    "# Transform wide table into a tall table\n",
    "measles = ..."
   ]
  },
  {
   "cell_type": "markdown",
   "metadata": {},
   "source": [
    "## 3. Constructing individual plots components\n",
    "\n",
    "+ The HoloViews library provides convenience functions to produce visualizations from data.\n",
    "+ The function `HeatMap` is one such function; apply it to the table `measles`.\n",
    "   + Use `'Measles Incidence'` as a `label` in constructing this table.\n",
    "+ Bind the result to the identifier `heatmap`."
   ]
  },
  {
   "cell_type": "code",
   "execution_count": null,
   "metadata": {},
   "outputs": [],
   "source": [
    "# Construct heatmap from measles table\n",
    "heatmap = ..."
   ]
  },
  {
   "cell_type": "markdown",
   "metadata": {},
   "source": [
    "+ The function `Dataset` from HoloViews extracts original data from HoloViews plot objects.\n",
    "   + Chain the `aggregate` method to the `YEAR` column with the `mean` & `std` functions from the NumPy package. \n",
    "+ Bind the result to the identifier `aggregate`."
   ]
  },
  {
   "cell_type": "code",
   "execution_count": null,
   "metadata": {},
   "outputs": [],
   "source": [
    "# Use heatmap data to compute annual average & standard deviation across all states\n",
    "aggregated = ..."
   ]
  },
  {
   "cell_type": "markdown",
   "metadata": {},
   "source": [
    "+ Construct a line-plot with `hv.Curve` and the data `aggregated`.\n",
    "   + Bind the result to the identifier `line`."
   ]
  },
  {
   "cell_type": "code",
   "execution_count": null,
   "metadata": {},
   "outputs": [],
   "source": [
    "# Construct a line plot \n",
    "line = ..."
   ]
  },
  {
   "cell_type": "markdown",
   "metadata": {},
   "source": [
    "+ Construct a plot of the error bars using `hv.ErrorBars` and the data `aggregated`.\n",
    "   + Bind the result to the identifier `bars`."
   ]
  },
  {
   "cell_type": "code",
   "execution_count": null,
   "metadata": {},
   "outputs": [],
   "source": [
    "# Construct error bars\n",
    "bars = ..."
   ]
  },
  {
   "cell_type": "markdown",
   "metadata": {},
   "source": [
    "+ Make a vertical line at the year 1963 with `hv.VLine`.\n",
    "   + Bind the result to the identifier `vline`."
   ]
  },
  {
   "cell_type": "code",
   "execution_count": null,
   "metadata": {},
   "outputs": [],
   "source": [
    "# Construct vertical line annotation\n",
    "vline = ..."
   ]
  },
  {
   "cell_type": "markdown",
   "metadata": {},
   "source": [
    "+ Make a text annotation with `hv.Text`.\n",
    "   + Use the text \"Vaccine introduction\" at coordinates `(1964,  800)`.\n",
    "   + Make the text align to the left using `halign='left'`.\n",
    "   + Bind the result to the identifier `text`."
   ]
  },
  {
   "cell_type": "code",
   "execution_count": null,
   "metadata": {},
   "outputs": [],
   "source": [
    "# Construct text annotation\n",
    "text = ..."
   ]
  },
  {
   "cell_type": "markdown",
   "metadata": {},
   "source": [
    "## 4. Putting plot pieces together\n",
    "\n",
    "+ Use the `*` and `+` operators to put all the plot elements together.\n",
    "  + Put `line`, `bars`, `vline`, and `text` on a common set of axes.\n",
    "  + Position the resulting line-plot beneath `heatmap` using the `cols` method.\n",
    "+ Bind the result to the identifier `overlay`."
   ]
  },
  {
   "cell_type": "code",
   "execution_count": null,
   "metadata": {},
   "outputs": [],
   "source": [
    "# Construct an overlay showing all plot elements together\n",
    "overlay = ..."
   ]
  },
  {
   "cell_type": "markdown",
   "metadata": {},
   "source": [
    "## 5. Cleaning up the final plot\n",
    "\n",
    "+ Finally, the object `overlay` just created can be modified using the `opts` method.\n",
    "   + The `hv.opts` module has numerous relevant ways of fine-tuning plot results.\n",
    "   + Use `hv.opts.VLine`, `hv.opts.Overlay`, & `hv.opts.HeatMap` with various arguments to improve the plot."
   ]
  },
  {
   "cell_type": "code",
   "execution_count": null,
   "metadata": {},
   "outputs": [],
   "source": [
    "# Use .opts method & hv.opts to tune plot elements\n",
    "overlay.opts()"
   ]
  }
 ],
 "metadata": {
  "kernelspec": {
   "display_name": "Python 3",
   "language": "python",
   "name": "python3"
  },
  "language_info": {
   "codemirror_mode": {
    "name": "ipython",
    "version": 3
   },
   "file_extension": ".py",
   "mimetype": "text/x-python",
   "name": "python",
   "nbconvert_exporter": "python",
   "pygments_lexer": "ipython3",
   "version": "3.8.10"
  }
 },
 "nbformat": 4,
 "nbformat_minor": 4
}
