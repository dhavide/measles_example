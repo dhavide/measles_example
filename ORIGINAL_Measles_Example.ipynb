{
 "cells": [
  {
   "cell_type": "markdown",
   "metadata": {},
   "source": [
    "This notebook reproduces a [visualization by the Wall Street Journal](http://graphics.wsj.com/infectious-diseases-and-vaccines/#b02g20t20w15) about the incidence of measles over time, which the brilliant [Brian Granger](https://github.com/ellisonbg) adapted into a [computational example for the Altair library](http://nbviewer.jupyter.org/github/ellisonbg/altair/blob/master/altair/notebooks/12-Measles.ipynb).\n",
    "\n",
    "[Original source](http://holoviews.org/gallery/demos/bokeh/measles_example.html) (from [`holoviews.org`](http://holoviews.org))"
   ]
  },
  {
   "cell_type": "markdown",
   "metadata": {},
   "source": [
    "## 1. Import required packages/libraries"
   ]
  },
  {
   "cell_type": "code",
   "execution_count": null,
   "metadata": {},
   "outputs": [],
   "source": [
    "# Required import statements\n",
    "import numpy as np\n",
    "import pandas as pd\n",
    "import holoviews as hv"
   ]
  },
  {
   "cell_type": "code",
   "execution_count": null,
   "metadata": {},
   "outputs": [],
   "source": [
    "# Print version information\n",
    "print(f'Numpy {np.__version__}')\n",
    "print(f'Pandas {pd.__version__}')\n",
    "print(f'Holoviews {hv.__version__}')\n",
    "# Display Holoviews & Bokeh logos below\n",
    "hv.extension('bokeh')"
   ]
  },
  {
   "cell_type": "markdown",
   "metadata": {},
   "source": [
    "## 2. Declaring data"
   ]
  },
  {
   "cell_type": "code",
   "execution_count": null,
   "metadata": {},
   "outputs": [],
   "source": [
    "# Load data from CSV file\n",
    "CSV_FILE = 'measles_incidence.csv'\n",
    "data = pd.read_csv(CSV_FILE, skiprows=2, na_values='-')\n",
    "\n",
    "# Add up data by year over all states\n",
    "yearly_data = data.drop('WEEK', axis=1).groupby('YEAR').sum().reset_index()\n",
    "\n",
    "# \"Melt\" wide table into a tall table\n",
    "measles = pd.melt(yearly_data, id_vars=['YEAR'], var_name='State', value_name='Incidence')"
   ]
  },
  {
   "cell_type": "markdown",
   "metadata": {},
   "source": [
    "## 3. Constructing individual plots components"
   ]
  },
  {
   "cell_type": "code",
   "execution_count": null,
   "metadata": {},
   "outputs": [],
   "source": [
    "# Construct heatmap from measles table\n",
    "heatmap = hv.HeatMap(measles, label='Measles Incidence')\n",
    "\n",
    "# Use heatmap data to compute annual average & standard deviation across all states\n",
    "aggregated = hv.Dataset(heatmap).aggregate('YEAR', np.mean, np.std)\n",
    "\n",
    "# Construct a line plot \n",
    "line = hv.Curve(aggregated)\n",
    "# Construct error bars\n",
    "bars = hv.ErrorBars(aggregated)\n",
    "\n",
    "# Construct vertical line annotation\n",
    "vline = hv.VLine(1963)\n",
    "# Construct text annotation\n",
    "text = hv.Text(1964, 800, 'Vaccine introduction', halign='left')"
   ]
  },
  {
   "cell_type": "markdown",
   "metadata": {},
   "source": [
    "## 4. Putting plot pieces together"
   ]
  },
  {
   "cell_type": "code",
   "execution_count": null,
   "metadata": {},
   "outputs": [],
   "source": [
    "# Construct an overlay showing all plot elements together\n",
    "overlay = (line * bars * vline * text + heatmap).cols(1)"
   ]
  },
  {
   "cell_type": "markdown",
   "metadata": {},
   "source": [
    "## 5. Cleaning up the final plot"
   ]
  },
  {
   "cell_type": "code",
   "execution_count": null,
   "metadata": {},
   "outputs": [],
   "source": [
    "# Use .opts method & hv.opts to tune plot elements\n",
    "overlay.opts(\n",
    "    hv.opts.VLine(line_color='black'),\n",
    "    hv.opts.Overlay(width=900, height=200, show_title=False, xrotation=90),\n",
    "    hv.opts.HeatMap(width=900, height=500, xaxis=None, tools=['hover'],\n",
    "                invert_yaxis=True, labelled=[], toolbar='above',\n",
    "                colorbar=True, logz=True, clim=(1, np.nan))\n",
    ")"
   ]
  }
 ],
 "metadata": {
  "kernelspec": {
   "display_name": "Python 3",
   "language": "python",
   "name": "python3"
  },
  "language_info": {
   "codemirror_mode": {
    "name": "ipython",
    "version": 3
   },
   "file_extension": ".py",
   "mimetype": "text/x-python",
   "name": "python",
   "nbconvert_exporter": "python",
   "pygments_lexer": "ipython3",
   "version": "3.8.10"
  }
 },
 "nbformat": 4,
 "nbformat_minor": 4
}
